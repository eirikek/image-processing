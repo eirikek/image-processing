{
 "cells": [
  {
   "cell_type": "code",
   "metadata": {
    "ExecuteTime": {
     "end_time": "2024-11-03T20:26:54.090772Z",
     "start_time": "2024-11-03T20:26:54.048793Z"
    }
   },
   "source": [
    "\n",
    "%load_ext autoreload\n",
    "%autoreload 2\n",
    "\n",
    "from pl_trainer import LightningModule\n",
    "from data_module import MNISTDataModule\n",
    "from torchvision import transforms\n",
    "import torch.nn as nn\n",
    "import lightning.pytorch as pl\n",
    "import pandas as pd\n",
    "import matplotlib.pyplot as plt\n",
    "import torch\n",
    "\n",
    "pl.seed_everything(42)"
   ],
   "outputs": [
    {
     "name": "stderr",
     "output_type": "stream",
     "text": [
      "Seed set to 42\n"
     ]
    },
    {
     "name": "stdout",
     "output_type": "stream",
     "text": [
      "The autoreload extension is already loaded. To reload it, use:\n",
      "  %reload_ext autoreload\n"
     ]
    },
    {
     "data": {
      "text/plain": [
       "42"
      ]
     },
     "execution_count": 10,
     "metadata": {},
     "output_type": "execute_result"
    }
   ],
   "execution_count": 10
  },
  {
   "cell_type": "markdown",
   "metadata": {},
   "source": [
    "# Setting up Hyperparameters"
   ]
  },
  {
   "cell_type": "code",
   "metadata": {
    "ExecuteTime": {
     "end_time": "2024-11-03T20:26:54.294564Z",
     "start_time": "2024-11-03T20:26:54.268310Z"
    }
   },
   "source": [
    "lr = 0.001 # Change learning rate here\n",
    "batch_size = 64\n",
    "max_epochs = 5"
   ],
   "outputs": [],
   "execution_count": 11
  },
  {
   "cell_type": "markdown",
   "metadata": {},
   "source": [
    "# Setting up Optimizer"
   ]
  },
  {
   "cell_type": "code",
   "metadata": {
    "ExecuteTime": {
     "end_time": "2024-11-03T20:26:54.336940Z",
     "start_time": "2024-11-03T20:26:54.311942Z"
    }
   },
   "source": "optimizer = torch.optim.Adam # Change the optimizer here",
   "outputs": [],
   "execution_count": 12
  },
  {
   "cell_type": "markdown",
   "metadata": {},
   "source": [
    "# Defining Model Architecture "
   ]
  },
  {
   "cell_type": "code",
   "metadata": {
    "ExecuteTime": {
     "end_time": "2024-11-03T20:26:54.381602Z",
     "start_time": "2024-11-03T20:26:54.354224Z"
    }
   },
   "source": [
    "def create_model():\n",
    "    \"\"\"\n",
    "        Initializes the model. Edit the code below if you would like to change the model.\n",
    "    \"\"\"\n",
    "    model = nn.Sequential(\n",
    "        nn.Conv2d(in_channels=1, out_channels=32, kernel_size=5, stride=1, padding=2),  # Output: 32 x 32 x 32\n",
    "        nn.ReLU(),\n",
    "        nn.MaxPool2d(kernel_size=2, stride=2),  # Output: 32 x 16 x 16\n",
    "        \n",
    "        # Second Convolutional Block: Conv2D + ReLU + MaxPool2D\n",
    "        nn.Conv2d(in_channels=32, out_channels=64, kernel_size=3, stride=1, padding=1),  # Output: 64 x 16 x 16\n",
    "        nn.ReLU(),\n",
    "        nn.MaxPool2d(kernel_size=2, stride=2),  # Output: 64 x 8 x 8\n",
    "        \n",
    "        # Third Convolutional Block: Conv2D + ReLU + MaxPool2D\n",
    "        nn.Conv2d(in_channels=64, out_channels=128, kernel_size=3, stride=1, padding=1),  # Output: 128 x 8 x 8\n",
    "        nn.ReLU(),\n",
    "        nn.MaxPool2d(kernel_size=2, stride=2),  # Output: 128 x 4 x 4\n",
    "\n",
    "        # Flattening layer\n",
    "        nn.Flatten(),  # Flattens 128 x 4 x 4 to 2048\n",
    "\n",
    "        # First Fully Connected Layer + ReLU\n",
    "        nn.Linear(128 * 4 * 4, 64),\n",
    "        nn.ReLU(),\n",
    "\n",
    "        # Second Fully Connected Layer (Output layer)\n",
    "        nn.Linear(64, 10)  # Output: 10 classes for digits 0-9\n",
    "    )\n",
    "    \n",
    "    return model\n",
    "\n",
    "# Initialize the model, data module, and trainer\n",
    "pl_model = LightningModule(model=create_model(), lr=lr, optimizer=optimizer)"
   ],
   "outputs": [],
   "execution_count": 13
  },
  {
   "cell_type": "markdown",
   "metadata": {},
   "source": [
    "# Setting up Dataloaders and Transformations"
   ]
  },
  {
   "cell_type": "code",
   "metadata": {
    "ExecuteTime": {
     "end_time": "2024-11-03T20:26:54.423564Z",
     "start_time": "2024-11-03T20:26:54.398948Z"
    }
   },
   "source": [
    "my_transforms = transforms.Compose([\n",
    "        transforms.Resize((32, 32)),\n",
    "        transforms.ToTensor(),\n",
    "        transforms.Normalize([0.5], [0.5])])\n",
    "\n",
    "\n",
    "mnist_data = MNISTDataModule(batch_size=batch_size, transforms=my_transforms)"
   ],
   "outputs": [],
   "execution_count": 14
  },
  {
   "cell_type": "markdown",
   "metadata": {},
   "source": [
    "# Train Model"
   ]
  },
  {
   "cell_type": "code",
   "metadata": {
    "ExecuteTime": {
     "end_time": "2024-11-03T20:32:05.385936Z",
     "start_time": "2024-11-03T20:26:54.442262Z"
    }
   },
   "source": [
    "# Initialize CSVLogger\n",
    "csv_logger = pl.loggers.CSVLogger(save_dir='logs/', name='mnist_logs', version=0)\n",
    "\n",
    "# Set up the trainer\n",
    "trainer = pl.Trainer(max_epochs=max_epochs, \n",
    "                     logger=csv_logger, \n",
    "                     check_val_every_n_epoch=1, \n",
    "                     enable_checkpointing=False,\n",
    "                     deterministic=True)\n",
    "\n",
    "# Train the model\n",
    "trainer.fit(pl_model, mnist_data)"
   ],
   "outputs": [
    {
     "name": "stderr",
     "output_type": "stream",
     "text": [
      "GPU available: False, used: False\n",
      "TPU available: False, using: 0 TPU cores\n",
      "HPU available: False, using: 0 HPUs\n",
      "/opt/miniconda3/envs/tdt4195/lib/python3.10/site-packages/lightning/fabric/loggers/csv_logs.py:268: Experiment logs directory logs/mnist_logs/version_0 exists and is not empty. Previous log files in this directory will be deleted when the new ones are saved!\n",
      "\n",
      "  | Name    | Type               | Params | Mode \n",
      "-------------------------------------------------------\n",
      "0 | model   | Sequential         | 224 K  | train\n",
      "1 | loss_fn | CrossEntropyLoss   | 0      | train\n",
      "2 | acc_fn  | MulticlassAccuracy | 0      | train\n",
      "-------------------------------------------------------\n",
      "224 K     Trainable params\n",
      "0         Non-trainable params\n",
      "224 K     Total params\n",
      "0.900     Total estimated model params size (MB)\n",
      "16        Modules in train mode\n",
      "0         Modules in eval mode\n"
     ]
    },
    {
     "data": {
      "text/plain": [
       "Sanity Checking: |          | 0/? [00:00<?, ?it/s]"
      ],
      "application/vnd.jupyter.widget-view+json": {
       "version_major": 2,
       "version_minor": 0,
       "model_id": "7bf64aca01b44d7289ba73d8299dcf34"
      }
     },
     "metadata": {},
     "output_type": "display_data"
    },
    {
     "name": "stderr",
     "output_type": "stream",
     "text": [
      "/opt/miniconda3/envs/tdt4195/lib/python3.10/site-packages/lightning/pytorch/trainer/connectors/data_connector.py:424: The 'val_dataloader' does not have many workers which may be a bottleneck. Consider increasing the value of the `num_workers` argument` to `num_workers=7` in the `DataLoader` to improve performance.\n",
      "/opt/miniconda3/envs/tdt4195/lib/python3.10/site-packages/lightning/pytorch/trainer/connectors/data_connector.py:424: The 'train_dataloader' does not have many workers which may be a bottleneck. Consider increasing the value of the `num_workers` argument` to `num_workers=7` in the `DataLoader` to improve performance.\n"
     ]
    },
    {
     "data": {
      "text/plain": [
       "Training: |          | 0/? [00:00<?, ?it/s]"
      ],
      "application/vnd.jupyter.widget-view+json": {
       "version_major": 2,
       "version_minor": 0,
       "model_id": "a00b9c3c58a842258d6ba98bebe73368"
      }
     },
     "metadata": {},
     "output_type": "display_data"
    },
    {
     "data": {
      "text/plain": [
       "Validation: |          | 0/? [00:00<?, ?it/s]"
      ],
      "application/vnd.jupyter.widget-view+json": {
       "version_major": 2,
       "version_minor": 0,
       "model_id": "473278c34d73427dab4975c71784076f"
      }
     },
     "metadata": {},
     "output_type": "display_data"
    },
    {
     "data": {
      "text/plain": [
       "Validation: |          | 0/? [00:00<?, ?it/s]"
      ],
      "application/vnd.jupyter.widget-view+json": {
       "version_major": 2,
       "version_minor": 0,
       "model_id": "57147b7a96254081872acf3a86846ecb"
      }
     },
     "metadata": {},
     "output_type": "display_data"
    },
    {
     "data": {
      "text/plain": [
       "Validation: |          | 0/? [00:00<?, ?it/s]"
      ],
      "application/vnd.jupyter.widget-view+json": {
       "version_major": 2,
       "version_minor": 0,
       "model_id": "711b2c2d15774936b3c9e91055c97b31"
      }
     },
     "metadata": {},
     "output_type": "display_data"
    },
    {
     "data": {
      "text/plain": [
       "Validation: |          | 0/? [00:00<?, ?it/s]"
      ],
      "application/vnd.jupyter.widget-view+json": {
       "version_major": 2,
       "version_minor": 0,
       "model_id": "2a4c588040494f6f8bbe0aff9445dbda"
      }
     },
     "metadata": {},
     "output_type": "display_data"
    },
    {
     "data": {
      "text/plain": [
       "Validation: |          | 0/? [00:00<?, ?it/s]"
      ],
      "application/vnd.jupyter.widget-view+json": {
       "version_major": 2,
       "version_minor": 0,
       "model_id": "db2745142f974343a0be665c582f6a10"
      }
     },
     "metadata": {},
     "output_type": "display_data"
    },
    {
     "name": "stderr",
     "output_type": "stream",
     "text": [
      "`Trainer.fit` stopped: `max_epochs=5` reached.\n"
     ]
    }
   ],
   "execution_count": 15
  },
  {
   "cell_type": "markdown",
   "metadata": {},
   "source": [
    "# Plot Results"
   ]
  },
  {
   "cell_type": "code",
   "metadata": {
    "ExecuteTime": {
     "end_time": "2024-11-03T20:32:05.651002Z",
     "start_time": "2024-11-03T20:32:05.451298Z"
    }
   },
   "source": [
    "df = pd.read_csv('logs/mnist_logs/version_0/metrics.csv')\n",
    "\n",
    "# Create a figure and axes objects\n",
    "fig, ax = plt.subplots(1,2)\n",
    "\n",
    "# Plot 'val_loss' on the axes\n",
    "df.dropna(subset=['val_loss']).plot(x='step', y='val_loss', ax=ax[0], label='Validation Loss (Mean)')\n",
    "# Plot 'train_loss' on the same axes\n",
    "df.dropna(subset=['train_loss']).plot(x='step', y='train_loss', ax=ax[0], label='Training Loss')\n",
    "\n",
    "# Plot 'val_loss' on the axes\n",
    "df.dropna(subset=['val_acc']).plot(x='step', y='val_acc', ax=ax[1], label='Validation Accuracy (Mean)')\n",
    "# Plot 'train_loss' on the same axes\n",
    "df.dropna(subset=['train_acc']).plot(x='step', y='train_acc', ax=ax[1], label='Training Accuracy')\n",
    "\n",
    "ax[0].set_title('Loss')\n",
    "ax[1].set_title('Accuracy')\n",
    "plt.show()\n",
    "\n",
    "print(\"Final validation loss\", round(df['val_loss'].iloc[-1], 4))\n",
    "print(\"Final validation accuracy\", round(df['val_acc'].iloc[-1], 4))"
   ],
   "outputs": [
    {
     "data": {
      "text/plain": [
       "<Figure size 640x480 with 2 Axes>"
      ],
      "image/png": "[encoded data removed]"
     },
     "metadata": {},
     "output_type": "display_data"
    },
    {
     "name": "stdout",
     "output_type": "stream",
     "text": [
      "Final validation loss 0.0238\n",
      "Final validation accuracy 0.9921\n"
     ]
    }
   ],
   "execution_count": 16
  }
 ],
 "metadata": {
  "kernelspec": {
   "display_name": "tdt4195",
   "language": "python",
   "name": "python3"
  },
  "language_info": {
   "codemirror_mode": {
    "name": "ipython",
    "version": 3
   },
   "file_extension": ".py",
   "mimetype": "text/x-python",
   "name": "python",
   "nbconvert_exporter": "python",
   "pygments_lexer": "ipython3",
   "version": "3.10.15"
  }
 },
 "nbformat": 4,
 "nbformat_minor": 2
}
