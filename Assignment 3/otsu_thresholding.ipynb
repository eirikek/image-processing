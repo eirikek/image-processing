{
 "cells": [
  {
   "cell_type": "code",
   "metadata": {
    "ExecuteTime": {
     "end_time": "2024-11-18T19:00:45.727303Z",
     "start_time": "2024-11-18T19:00:41.211545Z"
    }
   },
   "source": [
    "import numpy as np\n",
    "import skimage\n",
    "import utils\n",
    "import pathlib"
   ],
   "outputs": [],
   "execution_count": 2
  },
  {
   "cell_type": "code",
   "metadata": {
    "ExecuteTime": {
     "end_time": "2024-11-18T19:00:45.737507Z",
     "start_time": "2024-11-18T19:00:45.732727Z"
    }
   },
   "source": [
    "def otsu_thresholding(im: np.ndarray) -> int:\n",
    "    \"\"\"\n",
    "        Otsu's thresholding algorithm that segments an image into 1 or 0 (True or False)\n",
    "        The function takes in a grayscale image and outputs a threshold value\n",
    "\n",
    "        args:\n",
    "            im: np.ndarray of shape (H, W) in the range [0, 255] (dtype=np.uint8)\n",
    "        return:\n",
    "            (int) the computed thresholding value\n",
    "    \"\"\"\n",
    "    assert im.dtype == np.uint8\n",
    "    ### START YOUR CODE HERE ### (You can change anything inside this block) \n",
    "    # You can also define other helper functions\n",
    "    # Compute normalized histogram\n",
    "    \n",
    "    hist, bins = np.histogram(im.ravel(), bins=256, range=(0, 256))\n",
    "    total_pixels = im.size\n",
    "    probabilities = hist / total_pixels\n",
    "\n",
    "    # 2. Initialize variables\n",
    "    max_between_class_variance = 0\n",
    "    optimal_threshold = 0\n",
    "\n",
    "    sum_all_intensity = np.dot(np.arange(256), probabilities)  # Total weighted sum of intensities\n",
    "    sum_background = 0  # Weighted sum for the background class\n",
    "    weight_background = 0  # Class 1 weight\n",
    "    weight_foreground = 0  # Class 2 weight\n",
    "\n",
    "    # 3. Iterate over all possible thresholds\n",
    "    for t in range(256):\n",
    "        # Update background weights and sums\n",
    "        weight_background += probabilities[t]\n",
    "        if weight_background == 0:\n",
    "            continue\n",
    "        \n",
    "        weight_foreground = 1 - weight_background\n",
    "        if weight_foreground == 0:\n",
    "            break\n",
    "\n",
    "        sum_background += t * probabilities[t]\n",
    "        mean_background = sum_background / weight_background\n",
    "        mean_foreground = (sum_all_intensity - sum_background) / weight_foreground\n",
    "\n",
    "        # Compute between-class variance\n",
    "        between_class_variance = (\n",
    "            weight_background * weight_foreground *\n",
    "            (mean_background - mean_foreground) ** 2\n",
    "        )\n",
    "\n",
    "        # Update optimal threshold if a better one is found\n",
    "        if between_class_variance > max_between_class_variance:\n",
    "            max_between_class_variance = between_class_variance\n",
    "            optimal_threshold = t\n",
    "\n",
    "    return optimal_threshold\n",
    "    ### END YOUR CODE HERE ### "
   ],
   "outputs": [],
   "execution_count": 3
  },
  {
   "cell_type": "code",
   "metadata": {
    "ExecuteTime": {
     "end_time": "2024-11-18T19:00:45.960150Z",
     "start_time": "2024-11-18T19:00:45.747049Z"
    }
   },
   "source": [
    "if __name__ == \"__main__\":\n",
    "    # DO NOT CHANGE\n",
    "    impaths_to_segment = [\n",
    "        pathlib.Path(\"thumbprint.png\"),\n",
    "        pathlib.Path(\"rice-shaded.png\")\n",
    "    ]\n",
    "    for impath in impaths_to_segment:\n",
    "        im = utils.read_image(impath)\n",
    "        threshold = otsu_thresholding(im)\n",
    "        print(\"Found optimal threshold:\", threshold)\n",
    "\n",
    "        # Segment the image by threshold\n",
    "        segmented_image = (im >= threshold)\n",
    "        assert im.shape == segmented_image.shape, \"Expected image shape ({}) to be same as thresholded image shape ({})\".format(\n",
    "                im.shape, segmented_image.shape)\n",
    "        assert segmented_image.dtype == bool, \"Expected thresholded image dtype to be bool. Was: {}\".format(\n",
    "                segmented_image.dtype)\n",
    "\n",
    "        segmented_image = utils.to_uint8(segmented_image)\n",
    "\n",
    "        save_path = \"{}-segmented.png\".format(impath.stem)\n",
    "        utils.save_im(save_path, segmented_image)\n",
    "\n",
    "        \n"
   ],
   "outputs": [
    {
     "name": "stdout",
     "output_type": "stream",
     "text": [
      "Reading image: images/thumbprint.png\n",
      "Found optimal threshold: 153\n",
      "Saving image to: image_processed/thumbprint-segmented.png\n",
      "Reading image: images/rice-shaded.png\n",
      "Found optimal threshold: 134\n",
      "Saving image to: image_processed/rice-shaded-segmented.png\n"
     ]
    }
   ],
   "execution_count": 4
  }
 ],
 "metadata": {
  "kernelspec": {
   "display_name": "tdt4195",
   "language": "python",
   "name": "python3"
  },
  "language_info": {
   "codemirror_mode": {
    "name": "ipython",
    "version": 3
   },
   "file_extension": ".py",
   "mimetype": "text/x-python",
   "name": "python",
   "nbconvert_exporter": "python",
   "pygments_lexer": "ipython3",
   "version": "3.10.15"
  }
 },
 "nbformat": 4,
 "nbformat_minor": 2
}
