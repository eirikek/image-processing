{
 "cells": [
  {
   "cell_type": "code",
   "metadata": {
    "ExecuteTime": {
     "end_time": "2024-11-18T18:47:10.115546Z",
     "start_time": "2024-11-18T18:47:08.642424Z"
    }
   },
   "source": [
    "import numpy as np\n",
    "from scipy.ndimage import binary_dilation\n",
    "\n",
    "# Binary image A\n",
    "A = np.array([\n",
    "    [1, 1, 0, 0, 1, 0, 1],\n",
    "    [0, 0, 0, 0, 1, 0, 1],\n",
    "    [1, 1, 0, 0, 0, 0, 0],\n",
    "    [0, 0, 1, 1, 1, 0, 1],\n",
    "    [1, 0, 1, 0, 0, 1, 1],\n",
    "    [0, 1, 1, 1, 1, 1, 0],\n",
    "    [1, 1, 0, 1, 0, 1, 1]\n",
    "])\n",
    "\n",
    "# Structuring element B\n",
    "B = np.array([\n",
    "    [1],\n",
    "    [1],\n",
    "    [1]\n",
    "])\n",
    "\n",
    "# Perform dilation\n",
    "dilated_A = binary_dilation(A, structure=B).astype(int)\n",
    "\n",
    "# Display the result\n",
    "print(\"Original A:\")\n",
    "print(A)\n",
    "print(\"\\nDilated A:\")\n",
    "print(dilated_A)"
   ],
   "outputs": [
    {
     "name": "stdout",
     "output_type": "stream",
     "text": [
      "Original A:\n",
      "[[1 1 0 0 1 0 1]\n",
      " [0 0 0 0 1 0 1]\n",
      " [1 1 0 0 0 0 0]\n",
      " [0 0 1 1 1 0 1]\n",
      " [1 0 1 0 0 1 1]\n",
      " [0 1 1 1 1 1 0]\n",
      " [1 1 0 1 0 1 1]]\n",
      "\n",
      "Dilated A:\n",
      "[[1 1 0 0 1 0 1]\n",
      " [1 1 0 0 1 0 1]\n",
      " [1 1 1 1 1 0 1]\n",
      " [1 1 1 1 1 1 1]\n",
      " [1 1 1 1 1 1 1]\n",
      " [1 1 1 1 1 1 1]\n",
      " [1 1 1 1 1 1 1]]\n"
     ]
    }
   ],
   "execution_count": 1
  }
 ],
 "metadata": {
  "kernelspec": {
   "display_name": "tdt4195",
   "language": "python",
   "name": "python3"
  },
  "language_info": {
   "codemirror_mode": {
    "name": "ipython",
    "version": 3
   },
   "file_extension": ".py",
   "mimetype": "text/x-python",
   "name": "python",
   "nbconvert_exporter": "python",
   "pygments_lexer": "ipython3",
   "version": "3.10.15"
  }
 },
 "nbformat": 4,
 "nbformat_minor": 2
}
