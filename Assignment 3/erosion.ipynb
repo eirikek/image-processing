{
 "cells": [
  {
   "cell_type": "code",
   "metadata": {
    "ExecuteTime": {
     "end_time": "2024-11-18T18:53:37.807231Z",
     "start_time": "2024-11-18T18:53:37.611Z"
    }
   },
   "source": [
    "import numpy as np\n",
    "from scipy.ndimage import binary_erosion\n",
    "\n",
    "# Binary image A\n",
    "A = np.array([\n",
    "    [1, 1, 0, 0, 1, 0, 1],\n",
    "    [0, 0, 0, 0, 1, 0, 1],\n",
    "    [1, 1, 0, 0, 0, 0, 0],\n",
    "    [0, 0, 1, 1, 1, 0, 1],\n",
    "    [1, 0, 1, 0, 0, 1, 1],\n",
    "    [0, 1, 1, 1, 1, 1, 0],\n",
    "    [1, 1, 0, 1, 0, 1, 1]\n",
    "])\n",
    "\n",
    "# Structuring element B\n",
    "B = np.array([\n",
    "    [1],\n",
    "    [1],\n",
    "    [1]\n",
    "])\n",
    "\n",
    "# Perform erosion\n",
    "eroded_A = binary_erosion(A, structure=B).astype(int)\n",
    "\n",
    "# Display the result with commas\n",
    "print(\"Eroded A:\")\n",
    "print(eroded_A.tolist())\n"
   ],
   "outputs": [
    {
     "name": "stdout",
     "output_type": "stream",
     "text": [
      "Eroded A:\n",
      "[[0, 0, 0, 0, 0, 0, 0], [0, 0, 0, 0, 0, 0, 0], [0, 0, 0, 0, 0, 0, 0], [0, 0, 0, 0, 0, 0, 0], [0, 0, 1, 0, 0, 0, 0], [0, 0, 0, 0, 0, 1, 0], [0, 0, 0, 0, 0, 0, 0]]\n"
     ]
    }
   ],
   "execution_count": 1
  }
 ],
 "metadata": {
  "kernelspec": {
   "display_name": "tdt4195",
   "language": "python",
   "name": "python3"
  },
  "language_info": {
   "codemirror_mode": {
    "name": "ipython",
    "version": 3
   },
   "file_extension": ".py",
   "mimetype": "text/x-python",
   "name": "python",
   "nbconvert_exporter": "python",
   "pygments_lexer": "ipython3",
   "version": "3.10.15"
  }
 },
 "nbformat": 4,
 "nbformat_minor": 2
}
