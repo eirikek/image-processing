{
 "cells": [
  {
   "cell_type": "code",
   "metadata": {
    "ExecuteTime": {
     "end_time": "2024-11-18T19:11:17.734128Z",
     "start_time": "2024-11-18T19:11:16.374518Z"
    }
   },
   "source": [
    "import utils\n",
    "import numpy as np"
   ],
   "outputs": [],
   "execution_count": 1
  },
  {
   "cell_type": "code",
   "metadata": {
    "ExecuteTime": {
     "end_time": "2024-11-18T19:11:17.748159Z",
     "start_time": "2024-11-18T19:11:17.742106Z"
    }
   },
   "source": [
    "def region_growing(im: np.ndarray, seed_points: list, T: int) -> np.ndarray:\n",
    "    \"\"\"\n",
    "        A region growing algorithm that segments an image into 1 or 0 (True or False).\n",
    "        Finds candidate pixels with a Moore-neighborhood (8-connectedness). \n",
    "        Uses pixel intensity thresholding with the threshold T as the homogeneity criteria.\n",
    "        The function takes in a grayscale image and outputs a boolean image\n",
    "\n",
    "        args:\n",
    "            im: np.ndarray of shape (H, W) in the range [0, 255] (dtype=np.uint8)\n",
    "            seed_points: list of list containing seed points (row, col). Ex:\n",
    "                [[row1, col1], [row2, col2], ...]\n",
    "            T: integer value defining the threshold to used for the homogeneity criteria.\n",
    "        return:\n",
    "            (np.ndarray) of shape (H, W). dtype=bool\n",
    "    \"\"\"\n",
    "    ### START YOUR CODE HERE ### (You can change anything inside this block)\n",
    "    # You can also define other helper functions\n",
    "    segmented = np.zeros_like(im, dtype=bool)\n",
    "    im = im.astype(float)\n",
    "\n",
    "    directions = [\n",
    "        (-1, -1), (-1, 0), (-1, 1),  # Top-left, Top, Top-right\n",
    "        (0, -1),         (0, 1),     # Left, Right\n",
    "        (1, -1), (1, 0), (1, 1)      # Bottom-left, Bottom, Bottom-right\n",
    "    ]\n",
    "\n",
    "    for seed in seed_points:\n",
    "        row, col = seed\n",
    "        stack = [(row, col)]\n",
    "        while stack:\n",
    "            r, c = stack.pop()\n",
    "            if not segmented[r, c]:\n",
    "                segmented[r, c] = True\n",
    "                for dr, dc in directions:\n",
    "                    nr, nc = r + dr, c + dc\n",
    "                    if (\n",
    "                        0 <= nr < im.shape[0] and 0 <= nc < im.shape[1] and\n",
    "                        not segmented[nr, nc] and\n",
    "                        abs(im[nr, nc] - im[row, col]) <= T\n",
    "                    ):\n",
    "                        stack.append((nr, nc))\n",
    "\n",
    "    return segmented\n",
    "    ### END YOUR CODE HERE ### "
   ],
   "outputs": [],
   "execution_count": 2
  },
  {
   "cell_type": "code",
   "metadata": {
    "ExecuteTime": {
     "end_time": "2024-11-18T19:11:17.849146Z",
     "start_time": "2024-11-18T19:11:17.794290Z"
    }
   },
   "source": [
    "if __name__ == \"__main__\":\n",
    "    # DO NOT CHANGE\n",
    "    im = utils.read_image(\"defective-weld.png\")\n",
    "\n",
    "    seed_points = [ # (row, column)\n",
    "        [254, 138], # Seed point 1\n",
    "        [253, 296], # Seed point 2\n",
    "        [233, 436], # Seed point 3\n",
    "        [232, 417], # Seed point 4\n",
    "    ]\n",
    "    intensity_threshold = 50\n",
    "    segmented_image = region_growing(im, seed_points, intensity_threshold)\n",
    "\n",
    "    assert im.shape == segmented_image.shape, \"Expected image shape ({}) to be same as thresholded image shape ({})\".format(\n",
    "        im.shape, segmented_image.shape)\n",
    "    assert segmented_image.dtype == bool, \"Expected thresholded image dtype to be bool. Was: {}\".format(\n",
    "            segmented_image.dtype)\n",
    "\n",
    "    segmented_image = utils.to_uint8(segmented_image)\n",
    "    utils.save_im(\"defective-weld-segmented.png\", segmented_image)\n"
   ],
   "outputs": [
    {
     "name": "stdout",
     "output_type": "stream",
     "text": [
      "Reading image: images/defective-weld.png\n",
      "Saving image to: image_processed/defective-weld-segmented.png\n"
     ]
    },
    {
     "name": "stderr",
     "output_type": "stream",
     "text": [
      "/Users/eirikekv/Documents/Høst 2024/TDT4195/Digital Image Processing/TDT4195-StarterCode-2024/Assignment 3/utils.py:56: UserWarning: /Users/eirikekv/Documents/Høst 2024/TDT4195/Digital Image Processing/TDT4195-StarterCode-2024/Assignment 3/image_processed/defective-weld-segmented.png is a low contrast image\n",
      "  skimage.io.imsave(impath, im)\n"
     ]
    }
   ],
   "execution_count": 3
  }
 ],
 "metadata": {
  "kernelspec": {
   "display_name": "tdt4195",
   "language": "python",
   "name": "python3"
  },
  "language_info": {
   "codemirror_mode": {
    "name": "ipython",
    "version": 3
   },
   "file_extension": ".py",
   "mimetype": "text/x-python",
   "name": "python",
   "nbconvert_exporter": "python",
   "pygments_lexer": "ipython3",
   "version": "3.10.15"
  }
 },
 "nbformat": 4,
 "nbformat_minor": 2
}
