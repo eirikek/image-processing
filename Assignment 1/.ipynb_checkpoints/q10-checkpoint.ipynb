{
 "cells": [
  {
   "cell_type": "code",
   "metadata": {
    "ExecuteTime": {
     "end_time": "2024-10-13T12:13:51.907392Z",
     "start_time": "2024-10-13T12:13:30.599330Z"
    }
   },
   "source": [
    "from utils import read_im, save_im, normalize\n",
    "import matplotlib.pyplot as plt\n",
    "import numpy as np\n",
    "\n",
    "\n",
    "\n",
    "\n",
    "def convolve_im(im, kernel):\n",
    "    \"\"\" A function that convolves im with kernel\n",
    "\n",
    "    Args:\n",
    "        im ([type]): [np.array of shape [H, W, 3]]\n",
    "        kernel ([type]): [np.array of shape [K, K]]\n",
    "    Returns:\n",
    "        [type]: [np.array of shape [H, W, 3]. should be same as im]\n",
    "    \"\"\"\n",
    "    # YOUR CODE HERE\n",
    "    new_image = im.copy()\n",
    "\n",
    "\n",
    "    return new_image"
   ],
   "outputs": [
    {
     "name": "stderr",
     "output_type": "stream",
     "text": [
      "Matplotlib is building the font cache; this may take a moment.\n"
     ]
    }
   ],
   "execution_count": 2
  },
  {
   "cell_type": "code",
   "execution_count": 2,
   "metadata": {},
   "outputs": [],
   "source": [
    "h_a = np.array([\n",
    "    [-1, 0, 1],\n",
    "    [-2, 0, 2],\n",
    "    [-1, 0, 1]\n",
    "])\n",
    "\n",
    "im = read_im(\"images/duck.jpeg\")\n",
    "im_sobel = convolve_im(im, h_a)\n",
    "im_sobel = normalize(im_sobel)\n",
    "\n",
    "plt.imshow(im_sobel)\n",
    "save_im(\"results/duck_sobel.jpeg\", im_sobel)"
   ]
  },
  {
   "cell_type": "code",
   "metadata": {
    "ExecuteTime": {
     "end_time": "2024-10-13T12:12:41.072394Z",
     "start_time": "2024-10-13T12:12:40.763593Z"
    }
   },
   "source": [
    "h_b = 1 / 256  * np.array([\n",
    "        [1, 4, 6, 4, 1],\n",
    "        [4, 16, 24, 16, 4],\n",
    "        [6, 24, 36, 24, 6],\n",
    "        [4, 16, 24, 16, 4],\n",
    "        [1, 4, 6, 4, 1]\n",
    "    ])\n",
    " \n",
    "im_smoothed = convolve_im(im, h_b)\n",
    "im_smoothed = normalize(im_smoothed)\n",
    "\n",
    "plt.imshow(im_smoothed, cmap='gray')\n",
    "save_im(\"results/duck_smoothed.jpeg\", im_smoothed)"
   ],
   "outputs": [
    {
     "ename": "NameError",
     "evalue": "name 'np' is not defined",
     "output_type": "error",
     "traceback": [
      "\u001B[0;31m---------------------------------------------------------------------------\u001B[0m",
      "\u001B[0;31mNameError\u001B[0m                                 Traceback (most recent call last)",
      "Cell \u001B[0;32mIn[1], line 1\u001B[0m\n\u001B[0;32m----> 1\u001B[0m h_b \u001B[38;5;241m=\u001B[39m \u001B[38;5;241m1\u001B[39m \u001B[38;5;241m/\u001B[39m \u001B[38;5;241m256\u001B[39m  \u001B[38;5;241m*\u001B[39m \u001B[43mnp\u001B[49m\u001B[38;5;241m.\u001B[39marray([\n\u001B[1;32m      2\u001B[0m         [\u001B[38;5;241m1\u001B[39m, \u001B[38;5;241m4\u001B[39m, \u001B[38;5;241m6\u001B[39m, \u001B[38;5;241m4\u001B[39m, \u001B[38;5;241m1\u001B[39m],\n\u001B[1;32m      3\u001B[0m         [\u001B[38;5;241m4\u001B[39m, \u001B[38;5;241m16\u001B[39m, \u001B[38;5;241m24\u001B[39m, \u001B[38;5;241m16\u001B[39m, \u001B[38;5;241m4\u001B[39m],\n\u001B[1;32m      4\u001B[0m         [\u001B[38;5;241m6\u001B[39m, \u001B[38;5;241m24\u001B[39m, \u001B[38;5;241m36\u001B[39m, \u001B[38;5;241m24\u001B[39m, \u001B[38;5;241m6\u001B[39m],\n\u001B[1;32m      5\u001B[0m         [\u001B[38;5;241m4\u001B[39m, \u001B[38;5;241m16\u001B[39m, \u001B[38;5;241m24\u001B[39m, \u001B[38;5;241m16\u001B[39m, \u001B[38;5;241m4\u001B[39m],\n\u001B[1;32m      6\u001B[0m         [\u001B[38;5;241m1\u001B[39m, \u001B[38;5;241m4\u001B[39m, \u001B[38;5;241m6\u001B[39m, \u001B[38;5;241m4\u001B[39m, \u001B[38;5;241m1\u001B[39m]\n\u001B[1;32m      7\u001B[0m     ])\n\u001B[1;32m      9\u001B[0m im_smoothed \u001B[38;5;241m=\u001B[39m convolve_im(im, h_b)\n\u001B[1;32m     10\u001B[0m im_smoothed \u001B[38;5;241m=\u001B[39m normalize(im_smoothed)\n",
      "\u001B[0;31mNameError\u001B[0m: name 'np' is not defined"
     ]
    }
   ],
   "execution_count": 1
  }
 ],
 "metadata": {
  "kernelspec": {
   "display_name": "base",
   "language": "python",
   "name": "python3"
  },
  "language_info": {
   "codemirror_mode": {
    "name": "ipython",
    "version": 3
   },
   "file_extension": ".py",
   "mimetype": "text/x-python",
   "name": "python",
   "nbconvert_exporter": "python",
   "pygments_lexer": "ipython3",
   "version": "3.11.4"
  }
 },
 "nbformat": 4,
 "nbformat_minor": 2
}
